{
 "cells": [
  {
   "cell_type": "markdown",
   "metadata": {},
   "source": [
    "#### To find the location(index) of a given number from a list\n",
    "##### Problem Strategy\n",
    "\n",
    "- sort the data in ascending order\n",
    "- access the mid-value\n",
    "- compare it with the target \n",
    "- Condition:\n",
    "    - if the target is equal to mid-value return mid-value index\n",
    "    - if the target is less than mid-value traverse left using indices of the sorted list and continue above steps\n",
    "    - if the target is greater than mid-value traverse right using indices of the sorted list and continue above steps\n",
    "\n",
    "##### Pitfalls\n",
    "- What if the number is at the first index # worst case scenario\n",
    "- What if the number is at the last index # worst case scenario\n",
    "- What if the number is repeated multiple times # return location of first occurrence\n",
    "- What if the target is not in the list; # return -1"
   ]
  },
  {
   "cell_type": "code",
   "execution_count": null,
   "metadata": {},
   "outputs": [],
   "source": []
  },
  {
   "cell_type": "code",
   "execution_count": 87,
   "metadata": {},
   "outputs": [],
   "source": [
    "class BinarySearch:\n",
    "    def __init__(self):\n",
    "        pass\n",
    "\n",
    "    def search(self, input_list: list, target: int, lt_idx: int, rt_idx: int):\n",
    "        result = -1\n",
    "        while lt_idx <= rt_idx:\n",
    "            mid_idx = (lt_idx + rt_idx) // 2\n",
    "\n",
    "            if input_list[mid_idx] == target:\n",
    "                result = mid_idx\n",
    "                rt_idx = mid_idx - 1\n",
    "            elif input_list[mid_idx] < target:\n",
    "                lt_idx = mid_idx + 1\n",
    "            else:\n",
    "                rt_idx = mid_idx - 1\n",
    "            \n",
    "        return result\n",
    "    \n",
    "    def main(self, input_list: list, target: int):\n",
    "        input_list = sorted(input_list)\n",
    "        return self.search(input_list, target, 0, len(input_list) -1)\n",
    "            \n",
    "\n",
    "        \n"
   ]
  },
  {
   "cell_type": "code",
   "execution_count": 88,
   "metadata": {},
   "outputs": [
    {
     "name": "stdout",
     "output_type": "stream",
     "text": [
      "Test Case 1 Passed!\n",
      "Test Case 2 Passed!\n",
      "Test Case 3 Passed!\n",
      "Test Case 4 Passed!\n",
      "Test Case 5 Passed!\n",
      "Test Case 6 Passed!\n",
      "Test Case 7 Passed!\n",
      "Test Case 8 Passed!\n",
      "Test Case 9 Passed!\n",
      "Test Case 10 Passed!\n",
      "Test Case 11 Passed!\n",
      "Test Case 12 Passed!\n",
      "Test Case 13 Passed!\n"
     ]
    }
   ],
   "source": [
    "def run_test_cases():\n",
    "    binary_search = BinarySearch()\n",
    "\n",
    "    test_cases = [\n",
    "        ([4, 2, 5, 1, 3], 5, 4),\n",
    "        ([3], 3, 0),\n",
    "        ([3], 5, -1),\n",
    "        ([10, 20, 30, 40, 50], 10, 0),\n",
    "        ([10, 20, 30, 40, 50], 50, 4),\n",
    "        ([10, 20, 30, 40, 50], 30, 2),\n",
    "        ([10, 20, 30, 40, 50], 5, -1),\n",
    "        ([10, 20, 30, 40, 50], 60, -1),\n",
    "        ([], 10, -1),\n",
    "        ([10, 10, 20, 20, 30, 30, 40, 50], 20, 2),\n",
    "        ([-10, -20, 0, 10, 20], -20, 0),\n",
    "        ([10, -10, 0, 20, -20], 0, 2),\n",
    "        (list(range(1, 1000000)), 999999, 999998),\n",
    "    ]\n",
    "\n",
    "    for idx, (input_list, target, expected) in enumerate(test_cases, start=1):\n",
    "        result = binary_search.main(input_list, target)\n",
    "        assert result == expected, f\"Test Case {idx} Failed: Got {result}, Expected {expected}\"\n",
    "        print(f\"Test Case {idx} Passed!\")\n",
    "\n",
    "run_test_cases()\n"
   ]
  },
  {
   "cell_type": "code",
   "execution_count": null,
   "metadata": {},
   "outputs": [],
   "source": []
  },
  {
   "cell_type": "code",
   "execution_count": null,
   "metadata": {},
   "outputs": [],
   "source": []
  },
  {
   "cell_type": "code",
   "execution_count": null,
   "metadata": {},
   "outputs": [],
   "source": []
  }
 ],
 "metadata": {
  "kernelspec": {
   "display_name": "leetcode-env",
   "language": "python",
   "name": "python3"
  },
  "language_info": {
   "codemirror_mode": {
    "name": "ipython",
    "version": 3
   },
   "file_extension": ".py",
   "mimetype": "text/x-python",
   "name": "python",
   "nbconvert_exporter": "python",
   "pygments_lexer": "ipython3",
   "version": "3.11.10"
  }
 },
 "nbformat": 4,
 "nbformat_minor": 2
}
